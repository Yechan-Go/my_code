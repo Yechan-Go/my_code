{
 "cells": [
  {
   "cell_type": "code",
   "execution_count": null,
   "metadata": {},
   "outputs": [],
   "source": [
    "%pip install gradio"
   ]
  },
  {
   "cell_type": "code",
   "execution_count": 2,
   "metadata": {},
   "outputs": [
    {
     "name": "stdout",
     "output_type": "stream",
     "text": [
      "Running on local URL:  http://127.0.0.1:7860\n",
      "\n",
      "To create a public link, set `share=True` in `launch()`.\n"
     ]
    },
    {
     "data": {
      "text/html": [
       "<div><iframe src=\"http://127.0.0.1:7860/\" width=\"100%\" height=\"500\" allow=\"autoplay; camera; microphone; clipboard-read; clipboard-write;\" frameborder=\"0\" allowfullscreen></iframe></div>"
      ],
      "text/plain": [
       "<IPython.core.display.HTML object>"
      ]
     },
     "metadata": {},
     "output_type": "display_data"
    },
    {
     "data": {
      "text/plain": []
     },
     "execution_count": 2,
     "metadata": {},
     "output_type": "execute_result"
    }
   ],
   "source": [
    "import gradio as gr\n",
    "\n",
    "def hello_world(text):\n",
    "  return \"Hello world \" + text + '!'\n",
    "\n",
    "demo = gr.Interface(fn = hello_world, inputs = 'text', outputs = 'text')\n",
    "\n",
    "demo.launch()"
   ]
  },
  {
   "cell_type": "code",
   "execution_count": 3,
   "metadata": {},
   "outputs": [
    {
     "name": "stdout",
     "output_type": "stream",
     "text": [
      "Running on local URL:  http://127.0.0.1:7861\n",
      "\n",
      "To create a public link, set `share=True` in `launch()`.\n"
     ]
    },
    {
     "data": {
      "text/html": [
       "<div><iframe src=\"http://127.0.0.1:7861/\" width=\"100%\" height=\"500\" allow=\"autoplay; camera; microphone; clipboard-read; clipboard-write;\" frameborder=\"0\" allowfullscreen></iframe></div>"
      ],
      "text/plain": [
       "<IPython.core.display.HTML object>"
      ]
     },
     "metadata": {},
     "output_type": "display_data"
    },
    {
     "data": {
      "text/plain": []
     },
     "execution_count": 3,
     "metadata": {},
     "output_type": "execute_result"
    }
   ],
   "source": [
    "def hello_world(text):\n",
    "    return \"Hello world \" + text + \" !!\"\n",
    "\n",
    "def click_clear():\n",
    "    return \"\", \"\"\n",
    "\n",
    "with gr.Blocks() as demo:\n",
    "    name_textbox = gr.Textbox(label=\"이름\")\n",
    "    output_textbox = gr.Textbox(label=\"출력\")\n",
    "\n",
    "    submit_button = gr.Button(\"전송\")\n",
    "    clear_button = gr.Button(\"지우기\")\n",
    "\n",
    "    submit_button.click(fn=hello_world, inputs=[name_textbox], outputs=[output_textbox])\n",
    "    clear_button.click(fn=click_clear, inputs=[], outputs=[name_textbox, output_textbox])\n",
    "\n",
    "    # name_textbox.change(fn=hello_world, inputs=[name_textbox], outputs=[output_textbox])\n",
    "\n",
    "demo.launch()\n"
   ]
  },
  {
   "cell_type": "code",
   "execution_count": 4,
   "metadata": {},
   "outputs": [
    {
     "name": "stdout",
     "output_type": "stream",
     "text": [
      "Running on local URL:  http://127.0.0.1:7862\n",
      "\n",
      "To create a public link, set `share=True` in `launch()`.\n"
     ]
    },
    {
     "data": {
      "text/html": [
       "<div><iframe src=\"http://127.0.0.1:7862/\" width=\"100%\" height=\"500\" allow=\"autoplay; camera; microphone; clipboard-read; clipboard-write;\" frameborder=\"0\" allowfullscreen></iframe></div>"
      ],
      "text/plain": [
       "<IPython.core.display.HTML object>"
      ]
     },
     "metadata": {},
     "output_type": "display_data"
    },
    {
     "data": {
      "text/plain": []
     },
     "execution_count": 4,
     "metadata": {},
     "output_type": "execute_result"
    }
   ],
   "source": [
    "def hello_world(text):\n",
    "    return \"Hello world \" + text + \" !!\"\n",
    "\n",
    "def click_clear():\n",
    "    return \"\", \"\"\n",
    "\n",
    "with gr.Blocks() as demo:\n",
    "\n",
    "    with gr.Row():\n",
    "        name_textbox = gr.Textbox(label=\"이름\", scale=1)\n",
    "        output_textbox = gr.Textbox(label=\"출력\", scale=3)\n",
    "\n",
    "    with gr.Row():\n",
    "        submit_button = gr.Button(\"전송\",scale=3)\n",
    "        clear_button = gr.Button(\"지우기\",scale=1)\n",
    "\n",
    "    submit_button.click(fn=hello_world, inputs=[name_textbox], outputs=[output_textbox])\n",
    "    clear_button.click(fn=click_clear, inputs=[], outputs=[name_textbox, output_textbox])\n",
    "\n",
    "    # name_textbox.change(fn=hello_world, inputs=[name_textbox], outputs=[output_textbox])\n",
    "\n",
    "demo.launch()\n"
   ]
  }
 ],
 "metadata": {
  "kernelspec": {
   "display_name": "Python 3",
   "language": "python",
   "name": "python3"
  },
  "language_info": {
   "codemirror_mode": {
    "name": "ipython",
    "version": 3
   },
   "file_extension": ".py",
   "mimetype": "text/x-python",
   "name": "python",
   "nbconvert_exporter": "python",
   "pygments_lexer": "ipython3",
   "version": "3.12.5"
  }
 },
 "nbformat": 4,
 "nbformat_minor": 2
}
