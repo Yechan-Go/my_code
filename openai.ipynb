{
 "cells": [
  {
   "cell_type": "code",
   "execution_count": 4,
   "metadata": {},
   "outputs": [
    {
     "name": "stdout",
     "output_type": "stream",
     "text": [
      "Collecting requests\n",
      "  Downloading requests-2.32.3-py3-none-any.whl.metadata (4.6 kB)\n",
      "Collecting charset-normalizer<4,>=2 (from requests)\n",
      "  Downloading charset_normalizer-3.3.2-cp312-cp312-win_amd64.whl.metadata (34 kB)\n",
      "Collecting idna<4,>=2.5 (from requests)\n",
      "  Downloading idna-3.7-py3-none-any.whl.metadata (9.9 kB)\n",
      "Collecting urllib3<3,>=1.21.1 (from requests)\n",
      "  Downloading urllib3-2.2.2-py3-none-any.whl.metadata (6.4 kB)\n",
      "Collecting certifi>=2017.4.17 (from requests)\n",
      "  Downloading certifi-2024.7.4-py3-none-any.whl.metadata (2.2 kB)\n",
      "Downloading requests-2.32.3-py3-none-any.whl (64 kB)\n",
      "   ---------------------------------------- 0.0/64.9 kB ? eta -:--:--\n",
      "   ---------------------------------------- 64.9/64.9 kB ? eta 0:00:00\n",
      "Downloading certifi-2024.7.4-py3-none-any.whl (162 kB)\n",
      "   ---------------------------------------- 0.0/163.0 kB ? eta -:--:--\n",
      "   ---------------------------------------- 163.0/163.0 kB 9.5 MB/s eta 0:00:00\n",
      "Downloading charset_normalizer-3.3.2-cp312-cp312-win_amd64.whl (100 kB)\n",
      "   ---------------------------------------- 0.0/100.4 kB ? eta -:--:--\n",
      "   ---------------------------------------- 100.4/100.4 kB 6.0 MB/s eta 0:00:00\n",
      "Downloading idna-3.7-py3-none-any.whl (66 kB)\n",
      "   ---------------------------------------- 0.0/66.8 kB ? eta -:--:--\n",
      "   ---------------------------------------- 66.8/66.8 kB ? eta 0:00:00\n",
      "Downloading urllib3-2.2.2-py3-none-any.whl (121 kB)\n",
      "   ---------------------------------------- 0.0/121.4 kB ? eta -:--:--\n",
      "   ---------------------------------------- 121.4/121.4 kB 7.0 MB/s eta 0:00:00\n",
      "Installing collected packages: urllib3, idna, charset-normalizer, certifi, requests\n",
      "Successfully installed certifi-2024.7.4 charset-normalizer-3.3.2 idna-3.7 requests-2.32.3 urllib3-2.2.2\n",
      "Note: you may need to restart the kernel to use updated packages.\n"
     ]
    },
    {
     "name": "stderr",
     "output_type": "stream",
     "text": [
      "\n",
      "[notice] A new release of pip is available: 24.0 -> 24.2\n",
      "[notice] To update, run: python.exe -m pip install --upgrade pip\n"
     ]
    }
   ],
   "source": [
    "%pip install requests"
   ]
  },
  {
   "cell_type": "code",
   "execution_count": 5,
   "metadata": {},
   "outputs": [],
   "source": [
    "import requests"
   ]
  },
  {
   "cell_type": "code",
   "execution_count": 15,
   "metadata": {},
   "outputs": [
    {
     "name": "stdout",
     "output_type": "stream",
     "text": [
      "크리스마스를 혼자서 보내더라도 충분히 즐거운 시간을 보낼 수 있습니다. 다음은 혼자서 크리스마스를 즐길 수 있는 몇 가지 아이디어입니다:\n",
      "\n",
      "1. **크리스마스 영화 마라톤**: 좋아하는 크리스마스 영화를 몰아보세요. 따뜻한 핫초코나 맛있는 간식을 준비하면 더욱 좋겠죠.\n",
      "\n",
      "2. **요리 및 베이킹**: 크리스마스 쿠키나 케이크를 만들어보세요. 혼자서 특별한 요리를 만들어보는 것도 재미있을 거예요.\n",
      "\n",
      "3. **독서**: 읽고 싶었던 책을 읽으며 조용한 시간을 보내세요. 크리스마스 테마의 책도 괜찮고, 평소에 읽고 싶었던 책도 좋습니다.\n",
      "\n",
      "4. **온라인 쇼핑**: 자신에게 주고 싶은 선물을 찾아보세요. 세일 기간을 이용해 좋은 상품을 저렴하게 구매할 수 있을지도 몰라요.\n",
      "\n",
      "5. **취미 생활**: 평소 즐기던 취미 활동을 하거나 새로운 취미를 시작해보세요. 그림 그리기, 뜨개질, 음악 감상 등 다양한 선택지가 있습니다.\n",
      "\n",
      "6. **자기 돌봄**: 스파 데이처럼 자신을 돌보는 시간을 가져보세요. 얼굴 팩, 목욕, 명상 등을 하면서 몸과 마음을 힐링하세요.\n",
      "\n",
      "7. **온라인 모임**: 친구나 가족과 화상 통화를 하거나 온라인 게임을 하며 소통해보세요. 혼자여도 함께 있는 느낌을 받을 수 있습니다.\n",
      "\n",
      "8. **산책**: 근처 공원이나 자연 속을 산책하며 신선한 공기를 마시고, 크리스마스 분위기를 느껴보세요.\n",
      "\n",
      "9. **DIY 프로젝트**: 집을 꾸미거나 크리스마스 장식을 만들면서 창의력을 발휘해보세요.\n",
      "\n",
      "10. **일기 쓰기**: 한 해를 돌아보며 일기를 쓰거나 내년 계획을 세워보세요. 자신과 깊은 대화를 나누는 시간이 될 수 있습니다.\n",
      "\n",
      "혼자서도 충분히 의미 있고 즐거운 시간을 보낼 수 있으니, 자신에게 맞는 활동을 찾아보세요. 메리 크리스마스!\n"
     ]
    }
   ],
   "source": [
    "import requests\n",
    "\n",
    "endpoint = \"https://st001-2-openai.openai.azure.com/\"\n",
    "deployment_name = \"st001-gpt4o\"\n",
    "API_KEY = \"26b4c29e01404961adcb6eaf98e97e34\"\n",
    "\n",
    "\n",
    "\n",
    "headers = {\n",
    "    \"Content-Type\": \"application/json\",\n",
    "    \"api-key\": API_KEY,\n",
    "}\n",
    "\n",
    "data = {\n",
    "    \"messages\": [\n",
    "        {\n",
    "        \"role\": \"user\",\n",
    "        \"content\": [\n",
    "            {\n",
    "            \"type\": \"text\",\n",
    "            \"text\": \"크리스마스에 혼자서 뭐하고 놀지 추천해줘.\"\n",
    "            }\n",
    "        ]\n",
    "        }\n",
    "    ],\n",
    "    \"temperature\": 0.7,\n",
    "    \"top_p\": 0.95,\n",
    "    \"max_tokens\": 800\n",
    "}\n",
    "\n",
    "response = requests.post(f\"{endpoint}openai/deployments/{deployment_name}/chat/completions?api-version=2024-02-15-preview\",\n",
    "                        headers=headers,\n",
    "                        json=data)\n",
    "response_json = response.json()\n",
    "print(response_json['choices'][0]['message']['content'])"
   ]
  }
 ],
 "metadata": {
  "kernelspec": {
   "display_name": "Python 3",
   "language": "python",
   "name": "python3"
  },
  "language_info": {
   "codemirror_mode": {
    "name": "ipython",
    "version": 3
   },
   "file_extension": ".py",
   "mimetype": "text/x-python",
   "name": "python",
   "nbconvert_exporter": "python",
   "pygments_lexer": "ipython3",
   "version": "3.12.2"
  }
 },
 "nbformat": 4,
 "nbformat_minor": 2
}
